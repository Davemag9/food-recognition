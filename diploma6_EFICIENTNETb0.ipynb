{
 "cells": [
  {
   "cell_type": "code",
   "id": "initial_id",
   "metadata": {
    "collapsed": true,
    "ExecuteTime": {
     "end_time": "2025-03-01T13:57:22.116462Z",
     "start_time": "2025-03-01T13:57:17.661571Z"
    }
   },
   "source": [
    "import os\n",
    "import numpy as np\n",
    "import pandas as pd\n",
    "import matplotlib.pyplot as plt\n",
    "from sklearn.model_selection import train_test_split\n",
    "from tensorflow.keras.preprocessing.image import ImageDataGenerator\n",
    "from sklearn.utils.class_weight import compute_class_weight\n",
    "from tensorflow.keras.applications import VGG16, MobileNetV2\n",
    "from tensorflow.keras.applications import EfficientNetB0\n",
    "from tensorflow.keras.models import Model\n",
    "from tensorflow.keras.layers import Dense, Flatten, BatchNormalization, Dropout\n",
    "from tensorflow.keras.optimizers import Adam\n",
    "from keras.callbacks import EarlyStopping\n",
    "from tensorflow.keras.metrics import Accuracy\n",
    "from tensorflow.keras.losses import CategoricalCrossentropy\n",
    "from sklearn.metrics import confusion_matrix\n",
    "from sklearn.metrics import classification_report\n",
    "from tensorflow.keras.preprocessing import image_dataset_from_directory\n",
    "from tensorflow.keras import Sequential, layers\n",
    "from keras.preprocessing.image import load_img, img_to_array\n",
    "from tensorflow.keras.models import load_model\n",
    "from tensorflow.keras.applications import ConvNeXtBase, ConvNeXtXLarge\n",
    "from tensorflow.keras.layers import GlobalAveragePooling2D"
   ],
   "outputs": [],
   "execution_count": 1
  },
  {
   "metadata": {
    "ExecuteTime": {
     "end_time": "2025-03-01T13:57:22.129784Z",
     "start_time": "2025-03-01T13:57:22.124348Z"
    }
   },
   "cell_type": "code",
   "source": [
    "train_dir = '/Users/davemag9/Desktop/Diploma/archive1/Indian Food Images/Indian Food Images'\n",
    "\n",
    "train_dir = '/Users/davemag9/Desktop/Diploma/food20dataset/train_set'\n",
    "subdirectories = [os.path.join(train_dir, d) for d in os.listdir(train_dir) if\n",
    "                  os.path.isdir(os.path.join(train_dir, d))]\n",
    "subdirectories"
   ],
   "id": "7c3f233214f2a649",
   "outputs": [
    {
     "data": {
      "text/plain": [
       "['/Users/davemag9/Desktop/Diploma/food20dataset/train_set/vada pav',\n",
       " '/Users/davemag9/Desktop/Diploma/food20dataset/train_set/idly',\n",
       " '/Users/davemag9/Desktop/Diploma/food20dataset/train_set/bisibelebath',\n",
       " '/Users/davemag9/Desktop/Diploma/food20dataset/train_set/samosa',\n",
       " '/Users/davemag9/Desktop/Diploma/food20dataset/train_set/paniyaram',\n",
       " '/Users/davemag9/Desktop/Diploma/food20dataset/train_set/meduvadai',\n",
       " '/Users/davemag9/Desktop/Diploma/food20dataset/train_set/ven pongal',\n",
       " '/Users/davemag9/Desktop/Diploma/food20dataset/train_set/dhokla',\n",
       " '/Users/davemag9/Desktop/Diploma/food20dataset/train_set/chaat',\n",
       " '/Users/davemag9/Desktop/Diploma/food20dataset/train_set/poori',\n",
       " '/Users/davemag9/Desktop/Diploma/food20dataset/train_set/dosa',\n",
       " '/Users/davemag9/Desktop/Diploma/food20dataset/train_set/gulab jamun',\n",
       " '/Users/davemag9/Desktop/Diploma/food20dataset/train_set/chappati',\n",
       " '/Users/davemag9/Desktop/Diploma/food20dataset/train_set/biriyani',\n",
       " '/Users/davemag9/Desktop/Diploma/food20dataset/train_set/tandoori chicken',\n",
       " '/Users/davemag9/Desktop/Diploma/food20dataset/train_set/upma',\n",
       " '/Users/davemag9/Desktop/Diploma/food20dataset/train_set/kathi roll',\n",
       " '/Users/davemag9/Desktop/Diploma/food20dataset/train_set/noodles',\n",
       " '/Users/davemag9/Desktop/Diploma/food20dataset/train_set/butternaan',\n",
       " '/Users/davemag9/Desktop/Diploma/food20dataset/train_set/halwa']"
      ]
     },
     "execution_count": 2,
     "metadata": {},
     "output_type": "execute_result"
    }
   ],
   "execution_count": 2
  },
  {
   "metadata": {
    "ExecuteTime": {
     "end_time": "2025-03-01T13:57:22.235937Z",
     "start_time": "2025-03-01T13:57:22.232393Z"
    }
   },
   "cell_type": "code",
   "source": [
    "categories = sorted(os.listdir(train_dir))\n",
    "categories = [category for category in categories if category != '.DS_Store']\n",
    "\n",
    "categories"
   ],
   "id": "eec86c88e2fe58f6",
   "outputs": [
    {
     "data": {
      "text/plain": [
       "['biriyani',\n",
       " 'bisibelebath',\n",
       " 'butternaan',\n",
       " 'chaat',\n",
       " 'chappati',\n",
       " 'dhokla',\n",
       " 'dosa',\n",
       " 'gulab jamun',\n",
       " 'halwa',\n",
       " 'idly',\n",
       " 'kathi roll',\n",
       " 'meduvadai',\n",
       " 'noodles',\n",
       " 'paniyaram',\n",
       " 'poori',\n",
       " 'samosa',\n",
       " 'tandoori chicken',\n",
       " 'upma',\n",
       " 'vada pav',\n",
       " 'ven pongal']"
      ]
     },
     "execution_count": 3,
     "metadata": {},
     "output_type": "execute_result"
    }
   ],
   "execution_count": 3
  },
  {
   "metadata": {
    "ExecuteTime": {
     "end_time": "2025-03-01T13:57:22.249050Z",
     "start_time": "2025-03-01T13:57:22.242743Z"
    }
   },
   "cell_type": "code",
   "source": [
    "df = pd.DataFrame(columns=['image_path', 'label'])\n",
    "df"
   ],
   "id": "6dd763497fc1fb9b",
   "outputs": [
    {
     "data": {
      "text/plain": [
       "Empty DataFrame\n",
       "Columns: [image_path, label]\n",
       "Index: []"
      ],
      "text/html": [
       "<div>\n",
       "<style scoped>\n",
       "    .dataframe tbody tr th:only-of-type {\n",
       "        vertical-align: middle;\n",
       "    }\n",
       "\n",
       "    .dataframe tbody tr th {\n",
       "        vertical-align: top;\n",
       "    }\n",
       "\n",
       "    .dataframe thead th {\n",
       "        text-align: right;\n",
       "    }\n",
       "</style>\n",
       "<table border=\"1\" class=\"dataframe\">\n",
       "  <thead>\n",
       "    <tr style=\"text-align: right;\">\n",
       "      <th></th>\n",
       "      <th>image_path</th>\n",
       "      <th>label</th>\n",
       "    </tr>\n",
       "  </thead>\n",
       "  <tbody>\n",
       "  </tbody>\n",
       "</table>\n",
       "</div>"
      ]
     },
     "execution_count": 4,
     "metadata": {},
     "output_type": "execute_result"
    }
   ],
   "execution_count": 4
  },
  {
   "metadata": {
    "ExecuteTime": {
     "end_time": "2025-03-01T13:57:22.296400Z",
     "start_time": "2025-03-01T13:57:22.281781Z"
    }
   },
   "cell_type": "code",
   "source": [
    "dfs = []\n",
    "\n",
    "for category in categories:\n",
    "    category_path = os.path.join(train_dir, category)\n",
    "    image_data = []\n",
    "    for image_name in os.listdir(category_path):\n",
    "        image_path = os.path.join(category_path, image_name)\n",
    "        image_data.append({'image_path': image_path, 'label': category})\n",
    "    df_category = pd.DataFrame(image_data)\n",
    "    dfs.append(df_category)"
   ],
   "id": "660813adaf594d6a",
   "outputs": [],
   "execution_count": 5
  },
  {
   "metadata": {
    "ExecuteTime": {
     "end_time": "2025-03-01T13:57:22.333040Z",
     "start_time": "2025-03-01T13:57:22.324504Z"
    }
   },
   "cell_type": "code",
   "source": [
    "dfs = []\n",
    "max_images_per_category = 600\n",
    "\n",
    "for category in categories:\n",
    "    category_path = os.path.join(train_dir, category)\n",
    "    image_data = []\n",
    "    count = 0\n",
    "    for image_name in os.listdir(category_path):\n",
    "        if count >= max_images_per_category:\n",
    "            break\n",
    "        image_path = os.path.join(category_path, image_name)\n",
    "        image_data.append({'image_path': image_path, 'label': category})\n",
    "        count += 1\n",
    "    df_category = pd.DataFrame(image_data)\n",
    "    dfs.append(df_category)"
   ],
   "id": "264604c595b22c27",
   "outputs": [],
   "execution_count": 6
  },
  {
   "metadata": {
    "ExecuteTime": {
     "end_time": "2025-03-01T13:57:22.357177Z",
     "start_time": "2025-03-01T13:57:22.350791Z"
    }
   },
   "cell_type": "code",
   "source": [
    "df = pd.concat(dfs, ignore_index=True)\n",
    "df"
   ],
   "id": "d422c256be0ec373",
   "outputs": [
    {
     "data": {
      "text/plain": [
       "                                             image_path       label\n",
       "0     /Users/davemag9/Desktop/Diploma/food20dataset/...    biriyani\n",
       "1     /Users/davemag9/Desktop/Diploma/food20dataset/...    biriyani\n",
       "2     /Users/davemag9/Desktop/Diploma/food20dataset/...    biriyani\n",
       "3     /Users/davemag9/Desktop/Diploma/food20dataset/...    biriyani\n",
       "4     /Users/davemag9/Desktop/Diploma/food20dataset/...    biriyani\n",
       "...                                                 ...         ...\n",
       "1395  /Users/davemag9/Desktop/Diploma/food20dataset/...  ven pongal\n",
       "1396  /Users/davemag9/Desktop/Diploma/food20dataset/...  ven pongal\n",
       "1397  /Users/davemag9/Desktop/Diploma/food20dataset/...  ven pongal\n",
       "1398  /Users/davemag9/Desktop/Diploma/food20dataset/...  ven pongal\n",
       "1399  /Users/davemag9/Desktop/Diploma/food20dataset/...  ven pongal\n",
       "\n",
       "[1400 rows x 2 columns]"
      ],
      "text/html": [
       "<div>\n",
       "<style scoped>\n",
       "    .dataframe tbody tr th:only-of-type {\n",
       "        vertical-align: middle;\n",
       "    }\n",
       "\n",
       "    .dataframe tbody tr th {\n",
       "        vertical-align: top;\n",
       "    }\n",
       "\n",
       "    .dataframe thead th {\n",
       "        text-align: right;\n",
       "    }\n",
       "</style>\n",
       "<table border=\"1\" class=\"dataframe\">\n",
       "  <thead>\n",
       "    <tr style=\"text-align: right;\">\n",
       "      <th></th>\n",
       "      <th>image_path</th>\n",
       "      <th>label</th>\n",
       "    </tr>\n",
       "  </thead>\n",
       "  <tbody>\n",
       "    <tr>\n",
       "      <th>0</th>\n",
       "      <td>/Users/davemag9/Desktop/Diploma/food20dataset/...</td>\n",
       "      <td>biriyani</td>\n",
       "    </tr>\n",
       "    <tr>\n",
       "      <th>1</th>\n",
       "      <td>/Users/davemag9/Desktop/Diploma/food20dataset/...</td>\n",
       "      <td>biriyani</td>\n",
       "    </tr>\n",
       "    <tr>\n",
       "      <th>2</th>\n",
       "      <td>/Users/davemag9/Desktop/Diploma/food20dataset/...</td>\n",
       "      <td>biriyani</td>\n",
       "    </tr>\n",
       "    <tr>\n",
       "      <th>3</th>\n",
       "      <td>/Users/davemag9/Desktop/Diploma/food20dataset/...</td>\n",
       "      <td>biriyani</td>\n",
       "    </tr>\n",
       "    <tr>\n",
       "      <th>4</th>\n",
       "      <td>/Users/davemag9/Desktop/Diploma/food20dataset/...</td>\n",
       "      <td>biriyani</td>\n",
       "    </tr>\n",
       "    <tr>\n",
       "      <th>...</th>\n",
       "      <td>...</td>\n",
       "      <td>...</td>\n",
       "    </tr>\n",
       "    <tr>\n",
       "      <th>1395</th>\n",
       "      <td>/Users/davemag9/Desktop/Diploma/food20dataset/...</td>\n",
       "      <td>ven pongal</td>\n",
       "    </tr>\n",
       "    <tr>\n",
       "      <th>1396</th>\n",
       "      <td>/Users/davemag9/Desktop/Diploma/food20dataset/...</td>\n",
       "      <td>ven pongal</td>\n",
       "    </tr>\n",
       "    <tr>\n",
       "      <th>1397</th>\n",
       "      <td>/Users/davemag9/Desktop/Diploma/food20dataset/...</td>\n",
       "      <td>ven pongal</td>\n",
       "    </tr>\n",
       "    <tr>\n",
       "      <th>1398</th>\n",
       "      <td>/Users/davemag9/Desktop/Diploma/food20dataset/...</td>\n",
       "      <td>ven pongal</td>\n",
       "    </tr>\n",
       "    <tr>\n",
       "      <th>1399</th>\n",
       "      <td>/Users/davemag9/Desktop/Diploma/food20dataset/...</td>\n",
       "      <td>ven pongal</td>\n",
       "    </tr>\n",
       "  </tbody>\n",
       "</table>\n",
       "<p>1400 rows × 2 columns</p>\n",
       "</div>"
      ]
     },
     "execution_count": 7,
     "metadata": {},
     "output_type": "execute_result"
    }
   ],
   "execution_count": 7
  },
  {
   "metadata": {
    "ExecuteTime": {
     "end_time": "2025-03-01T13:57:22.400931Z",
     "start_time": "2025-03-01T13:57:22.396183Z"
    }
   },
   "cell_type": "code",
   "source": "train_df, val_df = train_test_split(df, test_size=0.2, random_state=42)",
   "id": "100104779dff4416",
   "outputs": [],
   "execution_count": 8
  },
  {
   "metadata": {
    "ExecuteTime": {
     "end_time": "2025-03-01T13:57:22.443241Z",
     "start_time": "2025-03-01T13:57:22.440210Z"
    }
   },
   "cell_type": "code",
   "source": "train_df.shape",
   "id": "32fc2cd3a2628176",
   "outputs": [
    {
     "data": {
      "text/plain": [
       "(1120, 2)"
      ]
     },
     "execution_count": 9,
     "metadata": {},
     "output_type": "execute_result"
    }
   ],
   "execution_count": 9
  },
  {
   "metadata": {
    "ExecuteTime": {
     "end_time": "2025-03-01T13:57:22.475136Z",
     "start_time": "2025-03-01T13:57:22.471766Z"
    }
   },
   "cell_type": "code",
   "source": "val_df.shape",
   "id": "d185151438f0386c",
   "outputs": [
    {
     "data": {
      "text/plain": [
       "(280, 2)"
      ]
     },
     "execution_count": 10,
     "metadata": {},
     "output_type": "execute_result"
    }
   ],
   "execution_count": 10
  },
  {
   "metadata": {
    "ExecuteTime": {
     "end_time": "2025-03-01T13:57:22.506817Z",
     "start_time": "2025-03-01T13:57:22.504270Z"
    }
   },
   "cell_type": "code",
   "source": "# val_df, test_df = train_test_split(val_df, test_size=0.5, random_state=42, shuffle=True)",
   "id": "d4e4c17ca445024e",
   "outputs": [],
   "execution_count": 11
  },
  {
   "metadata": {
    "ExecuteTime": {
     "end_time": "2025-03-01T13:57:22.533119Z",
     "start_time": "2025-03-01T13:57:22.529903Z"
    }
   },
   "cell_type": "code",
   "source": "val_df.shape",
   "id": "895a8bef77b9a0e6",
   "outputs": [
    {
     "data": {
      "text/plain": [
       "(280, 2)"
      ]
     },
     "execution_count": 12,
     "metadata": {},
     "output_type": "execute_result"
    }
   ],
   "execution_count": 12
  },
  {
   "metadata": {
    "ExecuteTime": {
     "end_time": "2025-03-01T13:57:22.554930Z",
     "start_time": "2025-03-01T13:57:22.552761Z"
    }
   },
   "cell_type": "code",
   "source": "# test_df.shape",
   "id": "eb087368a718a1ad",
   "outputs": [],
   "execution_count": 13
  },
  {
   "metadata": {
    "ExecuteTime": {
     "end_time": "2025-03-01T13:57:22.569840Z",
     "start_time": "2025-03-01T13:57:22.567219Z"
    }
   },
   "cell_type": "code",
   "source": [
    "augmentation_params = {\n",
    "    'rotation_range': 20,\n",
    "    'width_shift_range': 0.1,\n",
    "    'height_shift_range': 0.1,\n",
    "    'shear_range': 0.2,\n",
    "    'zoom_range': 0.1,\n",
    "    'horizontal_flip': True,\n",
    "    'fill_mode': 'nearest'\n",
    "}\n",
    "img_size = (224, 224)\n",
    "batch_size = 32"
   ],
   "id": "8d92612d6fb401e",
   "outputs": [],
   "execution_count": 14
  },
  {
   "metadata": {
    "ExecuteTime": {
     "end_time": "2025-03-01T13:57:22.583193Z",
     "start_time": "2025-03-01T13:57:22.580714Z"
    }
   },
   "cell_type": "code",
   "source": [
    "train_datagen = ImageDataGenerator(\n",
    "    # rescale=1. / 255,\n",
    "    **augmentation_params\n",
    ")\n",
    "val_datagen = ImageDataGenerator(\n",
    "    # rescale=1. / 255\n",
    ")\n",
    "# test_datagen = ImageDataGenerator(\n",
    "#     rescale=1. / 255\n",
    "# )"
   ],
   "id": "c30a1a985f2939ae",
   "outputs": [],
   "execution_count": 15
  },
  {
   "metadata": {
    "ExecuteTime": {
     "end_time": "2025-03-01T13:57:22.606957Z",
     "start_time": "2025-03-01T13:57:22.595143Z"
    }
   },
   "cell_type": "code",
   "source": [
    "train_images = train_datagen.flow_from_dataframe(\n",
    "    train_df,\n",
    "    x_col='image_path',\n",
    "    y_col='label',\n",
    "\n",
    "    target_size=img_size,\n",
    "    batch_size=batch_size,\n",
    "\n",
    "    shuffle=True,\n",
    "    seed=42,\n",
    "    class_mode='categorical'\n",
    ")"
   ],
   "id": "4d5226ad8bca757c",
   "outputs": [
    {
     "name": "stdout",
     "output_type": "stream",
     "text": [
      "Found 1120 validated image filenames belonging to 20 classes.\n"
     ]
    }
   ],
   "execution_count": 16
  },
  {
   "metadata": {
    "ExecuteTime": {
     "end_time": "2025-03-01T13:57:22.633873Z",
     "start_time": "2025-03-01T13:57:22.627348Z"
    }
   },
   "cell_type": "code",
   "source": [
    "val_images = val_datagen.flow_from_dataframe(\n",
    "    val_df,\n",
    "    x_col='image_path',\n",
    "    y_col='label',\n",
    "\n",
    "    target_size=img_size,\n",
    "    batch_size=batch_size,\n",
    "\n",
    "    shuffle=False,\n",
    "    seed=42,\n",
    "    class_mode='categorical'\n",
    ")"
   ],
   "id": "7dc893ee2bc5bc96",
   "outputs": [
    {
     "name": "stdout",
     "output_type": "stream",
     "text": [
      "Found 280 validated image filenames belonging to 20 classes.\n"
     ]
    }
   ],
   "execution_count": 17
  },
  {
   "metadata": {
    "ExecuteTime": {
     "end_time": "2025-03-01T13:57:22.651227Z",
     "start_time": "2025-03-01T13:57:22.649132Z"
    }
   },
   "cell_type": "code",
   "source": [
    "# test_images = test_datagen.flow_from_dataframe(\n",
    "#     test_df,\n",
    "#     x_col='image_path',\n",
    "#     y_col='label',\n",
    "#\n",
    "#     target_size=img_size,\n",
    "#     batch_size=batch_size,\n",
    "#\n",
    "#     shuffle=False,\n",
    "#     seed=42,\n",
    "#     class_mode='categorical'\n",
    "# )"
   ],
   "id": "31661bfca7f0bd91",
   "outputs": [],
   "execution_count": 18
  },
  {
   "metadata": {
    "ExecuteTime": {
     "end_time": "2025-03-01T13:57:23.321922Z",
     "start_time": "2025-03-01T13:57:22.671480Z"
    }
   },
   "cell_type": "code",
   "source": [
    "pretrained_model = EfficientNetB0(\n",
    "    input_shape=(img_size[0], img_size[1], 3),\n",
    "    include_top=False,\n",
    "    weights='imagenet',\n",
    "    pooling='avg'\n",
    ")\n",
    "\n",
    "pretrained_model.trainable = False\n",
    "\n",
    "outputs = Dense(len(categories), activation='softmax')(pretrained_model.output)\n",
    "\n",
    "model_en = Model(pretrained_model.input, outputs, name='EfficientNetB0')\n",
    "\n",
    "# print(model_en.summary())\n"
   ],
   "id": "d59f21d2ae9dca4e",
   "outputs": [],
   "execution_count": 19
  },
  {
   "metadata": {
    "ExecuteTime": {
     "end_time": "2025-03-01T13:57:23.331807Z",
     "start_time": "2025-03-01T13:57:23.325839Z"
    }
   },
   "cell_type": "code",
   "source": [
    "model_en.compile(\n",
    "    optimizer='adam',\n",
    "    loss='categorical_crossentropy',\n",
    "    metrics=['accuracy']\n",
    ")"
   ],
   "id": "acb2a97d07d1fa3f",
   "outputs": [],
   "execution_count": 20
  },
  {
   "metadata": {
    "ExecuteTime": {
     "end_time": "2025-03-01T14:11:00.754977Z",
     "start_time": "2025-03-01T14:07:19.094173Z"
    }
   },
   "cell_type": "code",
   "source": [
    "history_mn = model_en.fit(\n",
    "    train_images,\n",
    "    validation_data=val_images,\n",
    "    epochs=5,\n",
    "    callbacks=[\n",
    "        EarlyStopping(\n",
    "            monitor='val_loss',\n",
    "            patience=1,\n",
    "            restore_best_weights=True\n",
    "        )\n",
    "    ]\n",
    ")"
   ],
   "id": "7eb0ebfbe84bf421",
   "outputs": [
    {
     "name": "stdout",
     "output_type": "stream",
     "text": [
      "Epoch 1/5\n",
      "\u001B[1m35/35\u001B[0m \u001B[32m━━━━━━━━━━━━━━━━━━━━\u001B[0m\u001B[37m\u001B[0m \u001B[1m48s\u001B[0m 1s/step - accuracy: 0.9383 - loss: 0.3342 - val_accuracy: 0.8286 - val_loss: 0.6275\n",
      "Epoch 2/5\n",
      "\u001B[1m35/35\u001B[0m \u001B[32m━━━━━━━━━━━━━━━━━━━━\u001B[0m\u001B[37m\u001B[0m \u001B[1m43s\u001B[0m 1s/step - accuracy: 0.9644 - loss: 0.2850 - val_accuracy: 0.8321 - val_loss: 0.6182\n",
      "Epoch 3/5\n",
      "\u001B[1m35/35\u001B[0m \u001B[32m━━━━━━━━━━━━━━━━━━━━\u001B[0m\u001B[37m\u001B[0m \u001B[1m43s\u001B[0m 1s/step - accuracy: 0.9703 - loss: 0.2452 - val_accuracy: 0.8286 - val_loss: 0.6138\n",
      "Epoch 4/5\n",
      "\u001B[1m35/35\u001B[0m \u001B[32m━━━━━━━━━━━━━━━━━━━━\u001B[0m\u001B[37m\u001B[0m \u001B[1m43s\u001B[0m 1s/step - accuracy: 0.9667 - loss: 0.2375 - val_accuracy: 0.8286 - val_loss: 0.6091\n",
      "Epoch 5/5\n",
      "\u001B[1m35/35\u001B[0m \u001B[32m━━━━━━━━━━━━━━━━━━━━\u001B[0m\u001B[37m\u001B[0m \u001B[1m43s\u001B[0m 1s/step - accuracy: 0.9605 - loss: 0.2280 - val_accuracy: 0.8321 - val_loss: 0.6074\n"
     ]
    }
   ],
   "execution_count": 38
  },
  {
   "metadata": {
    "ExecuteTime": {
     "end_time": "2025-03-01T14:11:00.809389Z",
     "start_time": "2025-03-01T14:11:00.782026Z"
    }
   },
   "cell_type": "code",
   "source": [
    "test_dir = '/Users/davemag9/Desktop/Diploma/food20dataset/test_set'\n",
    "subdirectories = [os.path.join(train_dir, d) for d in os.listdir(test_dir) if\n",
    "                  os.path.isdir(os.path.join(test_dir, d))]\n",
    "\n",
    "categories = sorted(os.listdir(test_dir))\n",
    "categories = [category for category in categories if category != '.DS_Store']\n",
    "\n",
    "\n",
    "df = pd.DataFrame(columns=['image_path', 'label'])\n",
    "\n",
    "dfs = []\n",
    "\n",
    "for category in categories:\n",
    "    category_path = os.path.join(test_dir, category)\n",
    "    image_data = []\n",
    "    for image_name in os.listdir(category_path):\n",
    "        image_path = os.path.join(category_path, image_name)\n",
    "        image_data.append({'image_path': image_path, 'label': category})\n",
    "    df_category = pd.DataFrame(image_data)\n",
    "    dfs.append(df_category)\n",
    "\n",
    "\n",
    "dfs = []\n",
    "max_images_per_category = 600\n",
    "\n",
    "for category in categories:\n",
    "    category_path = os.path.join(test_dir, category)\n",
    "    image_data = []\n",
    "    count = 0\n",
    "    for image_name in os.listdir(category_path):\n",
    "        if count >= max_images_per_category:\n",
    "            break\n",
    "        image_path = os.path.join(category_path, image_name)\n",
    "        image_data.append({'image_path': image_path, 'label': category})\n",
    "        count += 1\n",
    "    df_category = pd.DataFrame(image_data)\n",
    "    dfs.append(df_category)\n",
    "\n",
    "test_df = pd.concat(dfs, ignore_index=True)\n",
    "\n",
    "\n",
    "test_datagen = ImageDataGenerator(\n",
    "    # rescale=1. / 255\n",
    ")\n",
    "\n",
    "test_images = test_datagen.flow_from_dataframe(\n",
    "    test_df,\n",
    "    x_col='image_path',\n",
    "    y_col='label',\n",
    "\n",
    "    target_size=img_size,\n",
    "    batch_size=batch_size,\n",
    "\n",
    "    shuffle=False,\n",
    "    seed=42,\n",
    "    class_mode='categorical'\n",
    ")"
   ],
   "id": "b443b4f927d8685d",
   "outputs": [
    {
     "name": "stdout",
     "output_type": "stream",
     "text": [
      "Found 600 validated image filenames belonging to 20 classes.\n"
     ]
    }
   ],
   "execution_count": 39
  },
  {
   "metadata": {
    "ExecuteTime": {
     "end_time": "2025-03-01T14:11:20.094277Z",
     "start_time": "2025-03-01T14:11:00.844379Z"
    }
   },
   "cell_type": "code",
   "source": [
    "predictions = model_en.predict(test_images)\n",
    "predicted_classes = np.argmax(predictions, axis=1)\n",
    "\n",
    "predicted_classes[:80]"
   ],
   "id": "990f46512b655bc6",
   "outputs": [
    {
     "name": "stderr",
     "output_type": "stream",
     "text": [
      "/Users/davemag9/Desktop/Diploma/venv/lib/python3.11/site-packages/keras/src/trainers/data_adapters/py_dataset_adapter.py:121: UserWarning: Your `PyDataset` class should call `super().__init__(**kwargs)` in its constructor. `**kwargs` can include `workers`, `use_multiprocessing`, `max_queue_size`. Do not pass these arguments to `fit()`, as they will be ignored.\n",
      "  self._warn_if_super_not_called()\n"
     ]
    },
    {
     "name": "stdout",
     "output_type": "stream",
     "text": [
      "\u001B[1m19/19\u001B[0m \u001B[32m━━━━━━━━━━━━━━━━━━━━\u001B[0m\u001B[37m\u001B[0m \u001B[1m18s\u001B[0m 967ms/step\n"
     ]
    },
    {
     "data": {
      "text/plain": [
       "array([ 0,  0,  0,  0,  0,  0,  0,  0,  0,  6,  0,  0,  0,  0,  0,  0, 16,\n",
       "        0,  0,  0,  5,  0,  0,  0,  0,  3,  0,  0,  0, 17,  1,  1,  1, 19,\n",
       "        1,  1,  1, 17,  8,  1,  3,  8, 19,  1, 17,  8,  1,  8,  1,  1,  1,\n",
       "        8,  1,  8,  8,  8,  1,  1,  1,  8,  2,  2,  4,  2,  2,  2,  2, 16,\n",
       "        5,  2,  2,  2,  2,  2,  2,  2,  2,  2,  2,  2])"
      ]
     },
     "execution_count": 40,
     "metadata": {},
     "output_type": "execute_result"
    }
   ],
   "execution_count": 40
  },
  {
   "metadata": {
    "ExecuteTime": {
     "end_time": "2025-03-01T14:11:20.141181Z",
     "start_time": "2025-03-01T14:11:20.137489Z"
    }
   },
   "cell_type": "code",
   "source": [
    "true_classes = test_images.classes\n",
    "class_labels = list(val_images.class_indices.keys())\n",
    "num_images = 25\n",
    "count = 0\n",
    "\n",
    "while count < num_images:\n",
    "    print(f\"{count + 1}. Label: {true_classes[count]}, Prediction: {predicted_classes[count]}\")\n",
    "    count += 1"
   ],
   "id": "b33bb0e754c31b",
   "outputs": [
    {
     "name": "stdout",
     "output_type": "stream",
     "text": [
      "1. Label: 0, Prediction: 0\n",
      "2. Label: 0, Prediction: 0\n",
      "3. Label: 0, Prediction: 0\n",
      "4. Label: 0, Prediction: 0\n",
      "5. Label: 0, Prediction: 0\n",
      "6. Label: 0, Prediction: 0\n",
      "7. Label: 0, Prediction: 0\n",
      "8. Label: 0, Prediction: 0\n",
      "9. Label: 0, Prediction: 0\n",
      "10. Label: 0, Prediction: 6\n",
      "11. Label: 0, Prediction: 0\n",
      "12. Label: 0, Prediction: 0\n",
      "13. Label: 0, Prediction: 0\n",
      "14. Label: 0, Prediction: 0\n",
      "15. Label: 0, Prediction: 0\n",
      "16. Label: 0, Prediction: 0\n",
      "17. Label: 0, Prediction: 16\n",
      "18. Label: 0, Prediction: 0\n",
      "19. Label: 0, Prediction: 0\n",
      "20. Label: 0, Prediction: 0\n",
      "21. Label: 0, Prediction: 5\n",
      "22. Label: 0, Prediction: 0\n",
      "23. Label: 0, Prediction: 0\n",
      "24. Label: 0, Prediction: 0\n",
      "25. Label: 0, Prediction: 0\n"
     ]
    }
   ],
   "execution_count": 41
  },
  {
   "metadata": {
    "ExecuteTime": {
     "end_time": "2025-03-01T14:11:20.353134Z",
     "start_time": "2025-03-01T14:11:20.168846Z"
    }
   },
   "cell_type": "code",
   "source": [
    "cm = confusion_matrix(true_classes, predicted_classes)\n",
    "\n",
    "plt.figure(figsize=(10, 10))\n",
    "plt.imshow(cm, interpolation='nearest', cmap=plt.cm.Blues)\n",
    "plt.title('Confusion Matrix')\n",
    "plt.colorbar()\n",
    "tick_marks = np.arange(len(class_labels))\n",
    "plt.xticks(tick_marks, class_labels, rotation=45)\n",
    "plt.yticks(tick_marks, class_labels)\n",
    "\n",
    "plt.show()"
   ],
   "id": "f153b5a040254c0c",
   "outputs": [
    {
     "data": {
      "text/plain": [
       "<Figure size 1000x1000 with 2 Axes>"
      ],
      "image/png": "[encoded data removed]"
     },
     "metadata": {},
     "output_type": "display_data"
    }
   ],
   "execution_count": 42
  },
  {
   "metadata": {
    "ExecuteTime": {
     "end_time": "2025-03-01T14:11:20.374847Z",
     "start_time": "2025-03-01T14:11:20.366578Z"
    }
   },
   "cell_type": "code",
   "source": [
    "report = classification_report(true_classes, predicted_classes, target_names=class_labels)\n",
    "\n",
    "print(report)"
   ],
   "id": "18edd857684621e2",
   "outputs": [
    {
     "name": "stdout",
     "output_type": "stream",
     "text": [
      "                  precision    recall  f1-score   support\n",
      "\n",
      "        biriyani       0.89      0.83      0.86        30\n",
      "    bisibelebath       0.89      0.53      0.67        30\n",
      "      butternaan       0.93      0.87      0.90        30\n",
      "           chaat       0.81      0.83      0.82        30\n",
      "        chappati       0.93      0.90      0.92        30\n",
      "          dhokla       0.85      0.93      0.89        30\n",
      "            dosa       0.86      0.80      0.83        30\n",
      "     gulab jamun       0.93      0.93      0.93        30\n",
      "           halwa       0.57      0.77      0.66        30\n",
      "            idly       0.96      0.83      0.89        30\n",
      "      kathi roll       0.91      1.00      0.95        30\n",
      "       meduvadai       0.97      0.93      0.95        30\n",
      "         noodles       0.97      0.97      0.97        30\n",
      "       paniyaram       0.93      0.87      0.90        30\n",
      "           poori       0.88      0.97      0.92        30\n",
      "          samosa       0.96      0.87      0.91        30\n",
      "tandoori chicken       0.94      1.00      0.97        30\n",
      "            upma       0.69      0.73      0.71        30\n",
      "        vada pav       1.00      0.97      0.98        30\n",
      "      ven pongal       0.78      0.93      0.85        30\n",
      "\n",
      "        accuracy                           0.87       600\n",
      "       macro avg       0.88      0.87      0.87       600\n",
      "    weighted avg       0.88      0.87      0.87       600\n",
      "\n"
     ]
    }
   ],
   "execution_count": 43
  },
  {
   "metadata": {
    "ExecuteTime": {
     "end_time": "2025-03-01T14:01:32.518872Z",
     "start_time": "2025-03-01T14:01:32.516767Z"
    }
   },
   "cell_type": "code",
   "source": "",
   "id": "4fdedfc26241efb2",
   "outputs": [],
   "execution_count": null
  }
 ],
 "metadata": {
  "kernelspec": {
   "display_name": "Python 3",
   "language": "python",
   "name": "python3"
  },
  "language_info": {
   "codemirror_mode": {
    "name": "ipython",
    "version": 2
   },
   "file_extension": ".py",
   "mimetype": "text/x-python",
   "name": "python",
   "nbconvert_exporter": "python",
   "pygments_lexer": "ipython2",
   "version": "2.7.6"
  }
 },
 "nbformat": 4,
 "nbformat_minor": 5
}
