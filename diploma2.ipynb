{
 "cells": [
  {
   "cell_type": "code",
   "source": [
    "import pandas as pd\n",
    "import numpy as np\n",
    "import matplotlib.pyplot as plt\n",
    "import seaborn as sns\n",
    "from pathlib import Path\n",
    "import os.path\n",
    "import tensorflow as tf\n",
    "from sklearn.model_selection import train_test_split\n",
    "from sklearn.preprocessing import LabelEncoder"
   ],
   "metadata": {
    "id": "Ov_8Ld0lTgVO",
    "ExecuteTime": {
     "end_time": "2025-02-05T23:47:44.936509Z",
     "start_time": "2025-02-05T23:47:42.052442Z"
    }
   },
   "outputs": [],
   "execution_count": 1
  },
  {
   "cell_type": "code",
   "source": [
    "# from google.colab import drive\n",
    "# drive.mount('/content/drive')"
   ],
   "metadata": {
    "colab": {
     "base_uri": "https://localhost:8080/"
    },
    "id": "UHZHkIevTmV2",
    "outputId": "9f65dfc7-d822-461c-af9a-91c090711755",
    "ExecuteTime": {
     "end_time": "2025-02-05T23:47:44.941227Z",
     "start_time": "2025-02-05T23:47:44.939852Z"
    }
   },
   "outputs": [],
   "execution_count": 2
  },
  {
   "cell_type": "code",
   "source": "image_dir = Path('/Users/davemag9/Desktop/Diploma/archive1/Indian Food Images/Indian Food Images')",
   "metadata": {
    "id": "dslKIw1eTkYU",
    "ExecuteTime": {
     "end_time": "2025-02-05T23:47:45.008907Z",
     "start_time": "2025-02-05T23:47:45.007443Z"
    }
   },
   "outputs": [],
   "execution_count": 3
  },
  {
   "cell_type": "code",
   "source": [
    "filepath = list(image_dir.glob(r'**/*.jpg'))\n",
    "label = list(map(lambda x : os.path.split(os.path.split(x)[0])[1], filepath))"
   ],
   "metadata": {
    "id": "n70lfMIkTrqN",
    "ExecuteTime": {
     "end_time": "2025-02-05T23:47:45.053730Z",
     "start_time": "2025-02-05T23:47:45.015972Z"
    }
   },
   "outputs": [],
   "execution_count": 4
  },
  {
   "cell_type": "code",
   "source": [
    "filepath = pd.Series(filepath, name = 'Filepath').astype(str)\n",
    "label = pd.Series(label, name = 'Label')\n",
    "image_df = pd.concat([filepath, label], axis = 1).sample(frac = 1.0, random_state = 1).reset_index(drop = True)\n",
    "image_df.head()"
   ],
   "metadata": {
    "colab": {
     "base_uri": "https://localhost:8080/",
     "height": 206
    },
    "id": "RiYW9hEPTvpp",
    "outputId": "5b459325-b7b5-421f-855f-a0b9c18cf8b1",
    "ExecuteTime": {
     "end_time": "2025-02-05T23:47:45.070311Z",
     "start_time": "2025-02-05T23:47:45.059215Z"
    }
   },
   "outputs": [
    {
     "data": {
      "text/plain": [
       "                                            Filepath        Label\n",
       "0  /Users/davemag9/Desktop/Diploma/archive1/India...       imarti\n",
       "1  /Users/davemag9/Desktop/Diploma/archive1/India...       chikki\n",
       "2  /Users/davemag9/Desktop/Diploma/archive1/India...  dal_makhani\n",
       "3  /Users/davemag9/Desktop/Diploma/archive1/India...   sutar_feni\n",
       "4  /Users/davemag9/Desktop/Diploma/archive1/India...      bhatura"
      ],
      "text/html": [
       "<div>\n",
       "<style scoped>\n",
       "    .dataframe tbody tr th:only-of-type {\n",
       "        vertical-align: middle;\n",
       "    }\n",
       "\n",
       "    .dataframe tbody tr th {\n",
       "        vertical-align: top;\n",
       "    }\n",
       "\n",
       "    .dataframe thead th {\n",
       "        text-align: right;\n",
       "    }\n",
       "</style>\n",
       "<table border=\"1\" class=\"dataframe\">\n",
       "  <thead>\n",
       "    <tr style=\"text-align: right;\">\n",
       "      <th></th>\n",
       "      <th>Filepath</th>\n",
       "      <th>Label</th>\n",
       "    </tr>\n",
       "  </thead>\n",
       "  <tbody>\n",
       "    <tr>\n",
       "      <th>0</th>\n",
       "      <td>/Users/davemag9/Desktop/Diploma/archive1/India...</td>\n",
       "      <td>imarti</td>\n",
       "    </tr>\n",
       "    <tr>\n",
       "      <th>1</th>\n",
       "      <td>/Users/davemag9/Desktop/Diploma/archive1/India...</td>\n",
       "      <td>chikki</td>\n",
       "    </tr>\n",
       "    <tr>\n",
       "      <th>2</th>\n",
       "      <td>/Users/davemag9/Desktop/Diploma/archive1/India...</td>\n",
       "      <td>dal_makhani</td>\n",
       "    </tr>\n",
       "    <tr>\n",
       "      <th>3</th>\n",
       "      <td>/Users/davemag9/Desktop/Diploma/archive1/India...</td>\n",
       "      <td>sutar_feni</td>\n",
       "    </tr>\n",
       "    <tr>\n",
       "      <th>4</th>\n",
       "      <td>/Users/davemag9/Desktop/Diploma/archive1/India...</td>\n",
       "      <td>bhatura</td>\n",
       "    </tr>\n",
       "  </tbody>\n",
       "</table>\n",
       "</div>"
      ]
     },
     "execution_count": 5,
     "metadata": {},
     "output_type": "execute_result"
    }
   ],
   "execution_count": 5
  },
  {
   "cell_type": "code",
   "source": [
    "len(image_df['Label'].unique())"
   ],
   "metadata": {
    "colab": {
     "base_uri": "https://localhost:8080/"
    },
    "id": "NmrPJysSTxZq",
    "outputId": "74930e81-1955-41f6-9a9d-b0e10f64da51",
    "ExecuteTime": {
     "end_time": "2025-02-05T23:47:45.096Z",
     "start_time": "2025-02-05T23:47:45.092913Z"
    }
   },
   "outputs": [
    {
     "data": {
      "text/plain": [
       "80"
      ]
     },
     "execution_count": 6,
     "metadata": {},
     "output_type": "execute_result"
    }
   ],
   "execution_count": 6
  },
  {
   "cell_type": "code",
   "source": [
    "image_df.shape"
   ],
   "metadata": {
    "colab": {
     "base_uri": "https://localhost:8080/"
    },
    "id": "UWXFseQWTylZ",
    "outputId": "744f36ec-fe74-4fbd-8279-e53a3259161a",
    "ExecuteTime": {
     "end_time": "2025-02-05T23:47:45.125733Z",
     "start_time": "2025-02-05T23:47:45.121927Z"
    }
   },
   "outputs": [
    {
     "data": {
      "text/plain": [
       "(4000, 2)"
      ]
     },
     "execution_count": 7,
     "metadata": {},
     "output_type": "execute_result"
    }
   ],
   "execution_count": 7
  },
  {
   "cell_type": "code",
   "source": [
    "le = LabelEncoder()\n",
    "image_df['Label'] = le.fit_transform(image_df['Label'])\n",
    "image_df['Label'].value_counts()"
   ],
   "metadata": {
    "colab": {
     "base_uri": "https://localhost:8080/",
     "height": 490
    },
    "id": "ZiAhv-kaTz9a",
    "outputId": "ba9870bb-6b7f-468a-8afb-bb833d9eaddd",
    "ExecuteTime": {
     "end_time": "2025-02-05T23:47:45.164113Z",
     "start_time": "2025-02-05T23:47:45.159228Z"
    }
   },
   "outputs": [
    {
     "data": {
      "text/plain": [
       "Label\n",
       "36    50\n",
       "23    50\n",
       "24    50\n",
       "11    50\n",
       "7     50\n",
       "      ..\n",
       "8     50\n",
       "28    50\n",
       "45    50\n",
       "29    50\n",
       "67    50\n",
       "Name: count, Length: 80, dtype: int64"
      ]
     },
     "execution_count": 8,
     "metadata": {},
     "output_type": "execute_result"
    }
   ],
   "execution_count": 8
  },
  {
   "cell_type": "code",
   "source": [
    "train_df, test_df = train_test_split(image_df, test_size = 0.30, shuffle = True, random_state = 1)"
   ],
   "metadata": {
    "id": "GQJ_tEzhT1hZ",
    "ExecuteTime": {
     "end_time": "2025-02-05T23:47:45.207291Z",
     "start_time": "2025-02-05T23:47:45.203934Z"
    }
   },
   "outputs": [],
   "execution_count": 9
  },
  {
   "cell_type": "code",
   "source": [
    "train_gen = tf.keras.preprocessing.image.ImageDataGenerator(rescale = 1./255,\n",
    "                                                           validation_split = 0.2)\n",
    "test_gen = tf.keras.preprocessing.image.ImageDataGenerator(rescale = 1./255)"
   ],
   "metadata": {
    "id": "qmE3NQYET3Q5",
    "ExecuteTime": {
     "end_time": "2025-02-05T23:47:45.241669Z",
     "start_time": "2025-02-05T23:47:45.231860Z"
    }
   },
   "outputs": [],
   "execution_count": 10
  },
  {
   "cell_type": "code",
   "source": [
    "train_df['Label'] = train_df['Label'].astype(str)\n",
    "test_df['Label'] = test_df['Label'].astype(str)\n"
   ],
   "metadata": {
    "id": "NL2VCEJvVin1",
    "ExecuteTime": {
     "end_time": "2025-02-05T23:47:45.260001Z",
     "start_time": "2025-02-05T23:47:45.256817Z"
    }
   },
   "outputs": [],
   "execution_count": 11
  },
  {
   "cell_type": "code",
   "source": [
    "train_image = train_gen.flow_from_dataframe(dataframe = train_df,\n",
    "                                           x_col = 'Filepath',\n",
    "                                           y_col = 'Label',\n",
    "                                           target_size = (224,224),\n",
    "                                           batch_size = 32,\n",
    "                                           color_mode = 'rgb',\n",
    "                                           class_mode = 'categorical',\n",
    "                                           shuffle = True,\n",
    "                                           seed = 42,\n",
    "                                           subset = 'training')\n",
    "val_image = train_gen.flow_from_dataframe(dataframe = train_df,\n",
    "                                           x_col = 'Filepath',\n",
    "                                           y_col = 'Label',\n",
    "                                           target_size = (224,224),\n",
    "                                           batch_size = 32,\n",
    "                                           color_mode = 'rgb',\n",
    "                                           class_mode = 'categorical',\n",
    "                                           shuffle = True,\n",
    "                                           seed = 42,\n",
    "                                           subset = 'validation')\n",
    "test_image = test_gen.flow_from_dataframe(dataframe = test_df,\n",
    "                                           x_col = 'Filepath',\n",
    "                                           y_col = 'Label',\n",
    "                                           target_size = (224,224),\n",
    "                                           batch_size = 32,\n",
    "                                           color_mode = 'rgb',\n",
    "                                           class_mode = 'categorical',\n",
    "                                           shuffle = False)"
   ],
   "metadata": {
    "colab": {
     "base_uri": "https://localhost:8080/"
    },
    "id": "83_Jt_D4T7c2",
    "outputId": "09410c33-911a-466a-992c-05061bf0cc19",
    "ExecuteTime": {
     "end_time": "2025-02-05T23:47:45.323923Z",
     "start_time": "2025-02-05T23:47:45.285656Z"
    }
   },
   "outputs": [
    {
     "name": "stdout",
     "output_type": "stream",
     "text": [
      "Found 2240 validated image filenames belonging to 80 classes.\n",
      "Found 560 validated image filenames belonging to 80 classes.\n",
      "Found 1200 validated image filenames belonging to 80 classes.\n"
     ]
    }
   ],
   "execution_count": 12
  },
  {
   "cell_type": "code",
   "source": [
    "inputs = tf.keras.Input(shape = (224,224,3))\n",
    "x = tf.keras.layers.Conv2D(filters = 16, kernel_size =(3,3), activation = 'relu' )(inputs)\n",
    "x = tf.keras.layers.MaxPool2D()(x)\n",
    "x = tf.keras.layers.Conv2D(filters = 32, kernel_size =(3,3), activation = 'relu' )(x)\n",
    "x = tf.keras.layers.MaxPool2D()(x)\n",
    "x = tf.keras.layers.GlobalAveragePooling2D()(x)\n",
    "x = tf.keras.layers.Dense(64, activation = 'relu')(x)\n",
    "x = tf.keras.layers.Dense(64, activation = 'relu')(x)\n",
    "outputs = tf.keras.layers.Dense(1, activation = 'linear')(x)\n",
    "\n"
   ],
   "metadata": {
    "id": "PlwCaUkcT9hZ",
    "ExecuteTime": {
     "end_time": "2025-02-05T23:47:45.351568Z",
     "start_time": "2025-02-05T23:47:45.326796Z"
    }
   },
   "outputs": [],
   "execution_count": 13
  },
  {
   "cell_type": "code",
   "source": [
    "model = tf.keras.Model(inputs = inputs, outputs = outputs)\n",
    "model.compile(optimizer = 'adam',\n",
    "             loss = 'mse',\n",
    "             metrics = ['accuracy'])"
   ],
   "metadata": {
    "id": "XOywXZJZUW1Z",
    "ExecuteTime": {
     "end_time": "2025-02-05T23:47:45.366446Z",
     "start_time": "2025-02-05T23:47:45.359874Z"
    }
   },
   "outputs": [],
   "execution_count": 14
  },
  {
   "cell_type": "code",
   "source": [
    "history  = model.fit(train_image,\n",
    "                    validation_data = val_image,\n",
    "                    epochs = 5,\n",
    "                    callbacks = [tf.keras.callbacks.EarlyStopping(\n",
    "                    monitor = 'val_loss',\n",
    "                    patience = 5,\n",
    "                    restore_best_weights = True)])"
   ],
   "metadata": {
    "colab": {
     "base_uri": "https://localhost:8080/"
    },
    "id": "fgy7kucnUVfe",
    "outputId": "6a30ff92-e183-46b7-cf41-94274081d982",
    "ExecuteTime": {
     "end_time": "2025-02-05T23:48:50.189789Z",
     "start_time": "2025-02-05T23:47:45.372764Z"
    }
   },
   "outputs": [
    {
     "name": "stdout",
     "output_type": "stream",
     "text": [
      "Epoch 1/5\n"
     ]
    },
    {
     "name": "stderr",
     "output_type": "stream",
     "text": [
      "/Users/davemag9/Desktop/Diploma/venv/lib/python3.11/site-packages/keras/src/trainers/data_adapters/py_dataset_adapter.py:121: UserWarning: Your `PyDataset` class should call `super().__init__(**kwargs)` in its constructor. `**kwargs` can include `workers`, `use_multiprocessing`, `max_queue_size`. Do not pass these arguments to `fit()`, as they will be ignored.\n",
      "  self._warn_if_super_not_called()\n"
     ]
    },
    {
     "name": "stdout",
     "output_type": "stream",
     "text": [
      "\u001B[1m70/70\u001B[0m \u001B[32m━━━━━━━━━━━━━━━━━━━━\u001B[0m\u001B[37m\u001B[0m \u001B[1m13s\u001B[0m 175ms/step - accuracy: 0.9875 - loss: 0.0128 - val_accuracy: 0.9875 - val_loss: 0.0123\n",
      "Epoch 2/5\n",
      "\u001B[1m70/70\u001B[0m \u001B[32m━━━━━━━━━━━━━━━━━━━━\u001B[0m\u001B[37m\u001B[0m \u001B[1m13s\u001B[0m 183ms/step - accuracy: 0.9875 - loss: 0.0123 - val_accuracy: 0.9875 - val_loss: 0.0123\n",
      "Epoch 3/5\n",
      "\u001B[1m70/70\u001B[0m \u001B[32m━━━━━━━━━━━━━━━━━━━━\u001B[0m\u001B[37m\u001B[0m \u001B[1m13s\u001B[0m 184ms/step - accuracy: 0.9875 - loss: 0.0123 - val_accuracy: 0.9875 - val_loss: 0.0123\n",
      "Epoch 4/5\n",
      "\u001B[1m70/70\u001B[0m \u001B[32m━━━━━━━━━━━━━━━━━━━━\u001B[0m\u001B[37m\u001B[0m \u001B[1m13s\u001B[0m 189ms/step - accuracy: 0.9875 - loss: 0.0123 - val_accuracy: 0.9875 - val_loss: 0.0123\n",
      "Epoch 5/5\n",
      "\u001B[1m70/70\u001B[0m \u001B[32m━━━━━━━━━━━━━━━━━━━━\u001B[0m\u001B[37m\u001B[0m \u001B[1m13s\u001B[0m 183ms/step - accuracy: 0.9875 - loss: 0.0123 - val_accuracy: 0.9875 - val_loss: 0.0123\n"
     ]
    }
   ],
   "execution_count": 15
  },
  {
   "cell_type": "code",
   "source": [
    "result = model.evaluate(test_image, verbose = 0)\n",
    "print('Test Loss : {:.3f}'.format(result[0]))\n",
    "print('Test Accuracy : {:.3f}%'.format(result[1]*100))"
   ],
   "metadata": {
    "id": "LfsOaQOnUAIn",
    "ExecuteTime": {
     "end_time": "2025-02-05T23:48:53.730121Z",
     "start_time": "2025-02-05T23:48:50.214315Z"
    }
   },
   "outputs": [
    {
     "name": "stderr",
     "output_type": "stream",
     "text": [
      "/Users/davemag9/Desktop/Diploma/venv/lib/python3.11/site-packages/keras/src/trainers/data_adapters/py_dataset_adapter.py:121: UserWarning: Your `PyDataset` class should call `super().__init__(**kwargs)` in its constructor. `**kwargs` can include `workers`, `use_multiprocessing`, `max_queue_size`. Do not pass these arguments to `fit()`, as they will be ignored.\n",
      "  self._warn_if_super_not_called()\n"
     ]
    },
    {
     "name": "stdout",
     "output_type": "stream",
     "text": [
      "Test Loss : 0.012\n",
      "Test Accuracy : 98.750%\n"
     ]
    }
   ],
   "execution_count": 16
  },
  {
   "cell_type": "code",
   "source": [
    "plt.figure(figsize = (20,20))\n",
    "plt.subplot(2,2,1)\n",
    "plt.plot(range(5),history.history['accuracy'], label = 'Training Accuracy')\n",
    "plt.plot(range(5), history.history['val_accuracy'], label = 'Validation Accuracy')\n",
    "plt.title('Training Accuracy vs Validation Accuracy')\n",
    "plt.legend(loc = 'lower right')\n",
    "plt.subplot(2,2,2)\n",
    "plt.plot(range(5),history.history['loss'], label = 'Training Loss')\n",
    "plt.plot(range(5), history.history['val_loss'], label = 'Validation Loss')\n",
    "plt.title('Training Loss vs Validation Loss')\n",
    "plt.legend(loc = 'upper right')\n",
    "plt.show()"
   ],
   "metadata": {
    "id": "cUjUYnXqUCmr",
    "ExecuteTime": {
     "end_time": "2025-02-05T23:49:57.871604Z",
     "start_time": "2025-02-05T23:49:57.619253Z"
    }
   },
   "outputs": [
    {
     "data": {
      "text/plain": [
       "<Figure size 2000x2000 with 2 Axes>"
      ],
      "image/png": "[encoded data removed]"
     },
     "metadata": {},
     "output_type": "display_data"
    }
   ],
   "execution_count": 21
  },
  {
   "cell_type": "code",
   "source": [
    "from sklearn.metrics import classification_report\n",
    "import numpy as np\n",
    "\n",
    "# Get true labels from test generator\n",
    "y_true = test_image.classes\n",
    "\n",
    "# Predict probabilities\n",
    "y_pred_probs = model.predict(test_image)\n",
    "\n",
    "# Convert probabilities to class labels\n",
    "y_pred = np.argmax(y_pred_probs, axis=1)\n",
    "\n",
    "# Get class labels\n",
    "class_labels = list(test_image.class_indices.keys())\n",
    "\n",
    "# Generate and print classification report\n",
    "report = classification_report(y_true, y_pred, target_names=class_labels)\n",
    "print(report)\n"
   ],
   "metadata": {
    "id": "pUjqcK0VdK9R",
    "ExecuteTime": {
     "end_time": "2025-02-05T23:49:24.280486Z",
     "start_time": "2025-02-05T23:49:20.640350Z"
    }
   },
   "outputs": [
    {
     "name": "stdout",
     "output_type": "stream",
     "text": [
      "\u001B[1m38/38\u001B[0m \u001B[32m━━━━━━━━━━━━━━━━━━━━\u001B[0m\u001B[37m\u001B[0m \u001B[1m3s\u001B[0m 86ms/step\n",
      "              precision    recall  f1-score   support\n",
      "\n",
      "           0       0.01      1.00      0.02        15\n",
      "           1       0.00      0.00      0.00        23\n",
      "          10       0.00      0.00      0.00        14\n",
      "          11       0.00      0.00      0.00        16\n",
      "          12       0.00      0.00      0.00        14\n",
      "          13       0.00      0.00      0.00        16\n",
      "          14       0.00      0.00      0.00        14\n",
      "          15       0.00      0.00      0.00        15\n",
      "          16       0.00      0.00      0.00        13\n",
      "          17       0.00      0.00      0.00        10\n",
      "          18       0.00      0.00      0.00        11\n",
      "          19       0.00      0.00      0.00        17\n",
      "           2       0.00      0.00      0.00        15\n",
      "          20       0.00      0.00      0.00        20\n",
      "          21       0.00      0.00      0.00        15\n",
      "          22       0.00      0.00      0.00        12\n",
      "          23       0.00      0.00      0.00        11\n",
      "          24       0.00      0.00      0.00        18\n",
      "          25       0.00      0.00      0.00        17\n",
      "          26       0.00      0.00      0.00        15\n",
      "          27       0.00      0.00      0.00        16\n",
      "          28       0.00      0.00      0.00        17\n",
      "          29       0.00      0.00      0.00        12\n",
      "           3       0.00      0.00      0.00        13\n",
      "          30       0.00      0.00      0.00        13\n",
      "          31       0.00      0.00      0.00        17\n",
      "          32       0.00      0.00      0.00        11\n",
      "          33       0.00      0.00      0.00        18\n",
      "          34       0.00      0.00      0.00        13\n",
      "          35       0.00      0.00      0.00        10\n",
      "          36       0.00      0.00      0.00        14\n",
      "          37       0.00      0.00      0.00        17\n",
      "          38       0.00      0.00      0.00        17\n",
      "          39       0.00      0.00      0.00        11\n",
      "           4       0.00      0.00      0.00        15\n",
      "          40       0.00      0.00      0.00        21\n",
      "          41       0.00      0.00      0.00        24\n",
      "          42       0.00      0.00      0.00        14\n",
      "          43       0.00      0.00      0.00        16\n",
      "          44       0.00      0.00      0.00        14\n",
      "          45       0.00      0.00      0.00        17\n",
      "          46       0.00      0.00      0.00        15\n",
      "          47       0.00      0.00      0.00        16\n",
      "          48       0.00      0.00      0.00        14\n",
      "          49       0.00      0.00      0.00        16\n",
      "           5       0.00      0.00      0.00        13\n",
      "          50       0.00      0.00      0.00        20\n",
      "          51       0.00      0.00      0.00        19\n",
      "          52       0.00      0.00      0.00        19\n",
      "          53       0.00      0.00      0.00        24\n",
      "          54       0.00      0.00      0.00        16\n",
      "          55       0.00      0.00      0.00        11\n",
      "          56       0.00      0.00      0.00        13\n",
      "          57       0.00      0.00      0.00        13\n",
      "          58       0.00      0.00      0.00        11\n",
      "          59       0.00      0.00      0.00         9\n",
      "           6       0.00      0.00      0.00        13\n",
      "          60       0.00      0.00      0.00        19\n",
      "          61       0.00      0.00      0.00        14\n",
      "          62       0.00      0.00      0.00        15\n",
      "          63       0.00      0.00      0.00        15\n",
      "          64       0.00      0.00      0.00        25\n",
      "          65       0.00      0.00      0.00        18\n",
      "          66       0.00      0.00      0.00        11\n",
      "          67       0.00      0.00      0.00        16\n",
      "          68       0.00      0.00      0.00        12\n",
      "          69       0.00      0.00      0.00        15\n",
      "           7       0.00      0.00      0.00        20\n",
      "          70       0.00      0.00      0.00        15\n",
      "          71       0.00      0.00      0.00        12\n",
      "          72       0.00      0.00      0.00        16\n",
      "          73       0.00      0.00      0.00        16\n",
      "          74       0.00      0.00      0.00        16\n",
      "          75       0.00      0.00      0.00         5\n",
      "          76       0.00      0.00      0.00        15\n",
      "          77       0.00      0.00      0.00        12\n",
      "          78       0.00      0.00      0.00         7\n",
      "          79       0.00      0.00      0.00        20\n",
      "           8       0.00      0.00      0.00         9\n",
      "           9       0.00      0.00      0.00        14\n",
      "\n",
      "    accuracy                           0.01      1200\n",
      "   macro avg       0.00      0.01      0.00      1200\n",
      "weighted avg       0.00      0.01      0.00      1200\n",
      "\n"
     ]
    },
    {
     "name": "stderr",
     "output_type": "stream",
     "text": [
      "/Users/davemag9/Desktop/Diploma/venv/lib/python3.11/site-packages/sklearn/metrics/_classification.py:1565: UndefinedMetricWarning: Precision is ill-defined and being set to 0.0 in labels with no predicted samples. Use `zero_division` parameter to control this behavior.\n",
      "  _warn_prf(average, modifier, f\"{metric.capitalize()} is\", len(result))\n",
      "/Users/davemag9/Desktop/Diploma/venv/lib/python3.11/site-packages/sklearn/metrics/_classification.py:1565: UndefinedMetricWarning: Precision is ill-defined and being set to 0.0 in labels with no predicted samples. Use `zero_division` parameter to control this behavior.\n",
      "  _warn_prf(average, modifier, f\"{metric.capitalize()} is\", len(result))\n",
      "/Users/davemag9/Desktop/Diploma/venv/lib/python3.11/site-packages/sklearn/metrics/_classification.py:1565: UndefinedMetricWarning: Precision is ill-defined and being set to 0.0 in labels with no predicted samples. Use `zero_division` parameter to control this behavior.\n",
      "  _warn_prf(average, modifier, f\"{metric.capitalize()} is\", len(result))\n"
     ]
    }
   ],
   "execution_count": 18
  },
  {
   "cell_type": "markdown",
   "source": [],
   "metadata": {
    "id": "jRadrNY3T_nA"
   }
  }
 ],
 "metadata": {
  "colab": {
   "provenance": []
  },
  "kernelspec": {
   "display_name": "Python 3 (ipykernel)",
   "name": "python3",
   "language": "python"
  },
  "language_info": {
   "name": "python"
  }
 },
 "nbformat": 4,
 "nbformat_minor": 0
}
